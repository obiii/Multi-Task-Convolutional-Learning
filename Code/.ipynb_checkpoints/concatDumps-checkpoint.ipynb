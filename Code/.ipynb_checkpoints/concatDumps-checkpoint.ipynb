{
 "cells": [
  {
   "cell_type": "code",
   "execution_count": 1,
   "metadata": {},
   "outputs": [],
   "source": [
    "import pandas as pd\n",
    "import os"
   ]
  },
  {
   "cell_type": "code",
   "execution_count": 2,
   "metadata": {},
   "outputs": [],
   "source": [
    "dumps = '../Data/Collections/Data_2013-02-35/dumps/'"
   ]
  },
  {
   "cell_type": "code",
   "execution_count": 3,
   "metadata": {},
   "outputs": [
    {
     "data": {
      "text/plain": [
       "'../Data/Collections/Data_2013-02-35/dumps/'"
      ]
     },
     "execution_count": 3,
     "metadata": {},
     "output_type": "execute_result"
    }
   ],
   "source": [
    "dumps"
   ]
  },
  {
   "cell_type": "code",
   "execution_count": 4,
   "metadata": {},
   "outputs": [
    {
     "data": {
      "text/plain": [
       "['dump1.CSV',\n",
       " 'dump10.CSV',\n",
       " 'dump11.CSV',\n",
       " 'dump12.CSV',\n",
       " 'dump13.CSV',\n",
       " 'dump14.CSV',\n",
       " 'dump15.CSV',\n",
       " 'dump16.CSV',\n",
       " 'dump17.CSV',\n",
       " 'dump18.CSV',\n",
       " 'dump19.CSV',\n",
       " 'dump2.CSV',\n",
       " 'dump20.CSV',\n",
       " 'dump21.CSV',\n",
       " 'dump22.CSV',\n",
       " 'dump23.CSV',\n",
       " 'dump24.CSV',\n",
       " 'dump25.CSV',\n",
       " 'dump26.CSV',\n",
       " 'dump27.CSV',\n",
       " 'dump28.CSV',\n",
       " 'dump29.CSV',\n",
       " 'dump3.CSV',\n",
       " 'dump30.CSV',\n",
       " 'dump31.CSV',\n",
       " 'dump32.CSV',\n",
       " 'dump33.CSV',\n",
       " 'dump34.CSV',\n",
       " 'dump35.CSV',\n",
       " 'dump36.CSV',\n",
       " 'dump37.CSV',\n",
       " 'dump38.CSV',\n",
       " 'dump39.CSV',\n",
       " 'dump4.CSV',\n",
       " 'dump40.CSV',\n",
       " 'dump41.CSV',\n",
       " 'dump42.CSV',\n",
       " 'dump43.CSV',\n",
       " 'dump44.CSV',\n",
       " 'dump45.CSV',\n",
       " 'dump46.CSV',\n",
       " 'dump47.CSV',\n",
       " 'dump48.CSV',\n",
       " 'dump49.CSV',\n",
       " 'dump5.CSV',\n",
       " 'dump50.CSV',\n",
       " 'dump51.CSV',\n",
       " 'dump52.CSV',\n",
       " 'dump53.CSV',\n",
       " 'dump54.CSV',\n",
       " 'dump6.CSV',\n",
       " 'dump7.CSV',\n",
       " 'dump8.CSV',\n",
       " 'dump9.CSV']"
      ]
     },
     "execution_count": 4,
     "metadata": {},
     "output_type": "execute_result"
    }
   ],
   "source": [
    "csvs = [f for f in os.listdir(dumps) if f.endswith('.CSV')]\n",
    "csvs"
   ]
  },
  {
   "cell_type": "code",
   "execution_count": 8,
   "metadata": {},
   "outputs": [
    {
     "name": "stdout",
     "output_type": "stream",
     "text": [
      "Working on file dump1.CSV ----------------------- (65535, 27)\n",
      "Working on file dump10.CSV ----------------------- (7307, 27)\n",
      "--Return--\n",
      "> <ipython-input-8-aa03f8f9aded>(16)<module>()->None\n",
      "-> pdb.set_trace();\n",
      "(Pdb) len(out)\n",
      "2\n",
      "(Pdb) d1 = out[0]\n",
      "(Pdb) print(d1.head())\n",
      "        Date        Time      MBM10_CP026      MBM10_CM027       MBM10_CT028  \\\n",
      "0                                      Pa              RH%               Â°C   \n",
      "1        NaN     4:10:37        102521.44            68.33             -0.72   \n",
      "2        NaN     4:10:38        102521.44            68.33             -0.71   \n",
      "3        NaN     4:10:39        102521.44            68.33             -0.72   \n",
      "4        NaN     4:10:40        102521.44            68.35             -0.72   \n",
      "\n",
      "       MBP10_CF002      MBP10_CF003      MBP10_CF004       ProcessAir  \\\n",
      "0              g/s              g/s              g/s              g/s   \n",
      "1             0.12             0.00             0.00             6.32   \n",
      "2             0.12             0.01             0.00             6.13   \n",
      "3             0.12             0.01             0.00             6.13   \n",
      "4             0.12             0.00             0.00             6.13   \n",
      "\n",
      "   equivalentRatio  ...        dPAverage         NOx15ppm        O2PercVol  \\\n",
      "0                   ...                %            15%O2                    \n",
      "1            ERROR  ...             0.00            20.82            20.97   \n",
      "2            ERROR  ...             0.00            -3.55            20.96   \n",
      "3            ERROR  ...             0.00            -3.55            20.96   \n",
      "4            ERROR  ...             0.00            -8.48            20.96   \n",
      "\n",
      "         H2Mol N2Mol        NGMol H2Weight     N2Weight NGWeight EtylenFlow  \n",
      "0            %   mol            %      mol            %      mol          %  \n",
      "1        11.32  1.00        87.69     1.54         0.00    99.02       0.00  \n",
      "2        14.42  0.94        84.64     2.00         0.00    95.47       0.01  \n",
      "3        14.42  0.94        84.64     2.00         0.00    95.47       0.00  \n",
      "4        14.99  0.92        84.09     2.06         0.00    92.37       0.01  \n",
      "\n",
      "[5 rows x 27 columns]\n",
      "(Pdb) print(d1.shape)\n",
      "(65535, 27)\n",
      "(Pdb) d2 = out[1]\n",
      "(Pdb) print(d2.shape)\n",
      "(7307, 27)\n",
      "(Pdb) dd = pd.concat(out)\n",
      "(Pdb) print(d.shape)\n",
      "(7307, 27)\n",
      "(Pdb) print(dd.shape)\n",
      "(72842, 27)\n",
      "(Pdb) 65535+72842\n",
      "138377\n",
      "(Pdb) 65535+7307\n",
      "72842\n",
      "(Pdb) q\n"
     ]
    },
    {
     "ename": "BdbQuit",
     "evalue": "",
     "output_type": "error",
     "traceback": [
      "\u001b[1;31m---------------------------------------------------------------------------\u001b[0m",
      "\u001b[1;31mBdbQuit\u001b[0m                                   Traceback (most recent call last)",
      "\u001b[1;32m<ipython-input-8-aa03f8f9aded>\u001b[0m in \u001b[0;36m<module>\u001b[1;34m\u001b[0m\n\u001b[0;32m     14\u001b[0m \u001b[1;33m\u001b[0m\u001b[0m\n\u001b[0;32m     15\u001b[0m \u001b[1;33m\u001b[0m\u001b[0m\n\u001b[1;32m---> 16\u001b[1;33m \u001b[0mpdb\u001b[0m\u001b[1;33m.\u001b[0m\u001b[0mset_trace\u001b[0m\u001b[1;33m(\u001b[0m\u001b[1;33m)\u001b[0m\u001b[1;33m;\u001b[0m\u001b[1;33m\u001b[0m\u001b[1;33m\u001b[0m\u001b[0m\n\u001b[0m\u001b[0;32m     17\u001b[0m \u001b[0moutd\u001b[0m \u001b[1;33m=\u001b[0m \u001b[0mpd\u001b[0m\u001b[1;33m.\u001b[0m\u001b[0mconcat\u001b[0m\u001b[1;33m(\u001b[0m\u001b[1;33m[\u001b[0m\u001b[0mout\u001b[0m\u001b[1;33m]\u001b[0m\u001b[1;33m)\u001b[0m\u001b[1;33m\u001b[0m\u001b[1;33m\u001b[0m\u001b[0m\n\u001b[0;32m     18\u001b[0m \u001b[1;33m\u001b[0m\u001b[0m\n",
      "\u001b[1;32m~\\AppData\\Local\\Continuum\\anaconda3\\lib\\bdb.py\u001b[0m in \u001b[0;36mtrace_dispatch\u001b[1;34m(self, frame, event, arg)\u001b[0m\n\u001b[0;32m     90\u001b[0m             \u001b[1;32mreturn\u001b[0m \u001b[0mself\u001b[0m\u001b[1;33m.\u001b[0m\u001b[0mdispatch_call\u001b[0m\u001b[1;33m(\u001b[0m\u001b[0mframe\u001b[0m\u001b[1;33m,\u001b[0m \u001b[0marg\u001b[0m\u001b[1;33m)\u001b[0m\u001b[1;33m\u001b[0m\u001b[1;33m\u001b[0m\u001b[0m\n\u001b[0;32m     91\u001b[0m         \u001b[1;32mif\u001b[0m \u001b[0mevent\u001b[0m \u001b[1;33m==\u001b[0m \u001b[1;34m'return'\u001b[0m\u001b[1;33m:\u001b[0m\u001b[1;33m\u001b[0m\u001b[1;33m\u001b[0m\u001b[0m\n\u001b[1;32m---> 92\u001b[1;33m             \u001b[1;32mreturn\u001b[0m \u001b[0mself\u001b[0m\u001b[1;33m.\u001b[0m\u001b[0mdispatch_return\u001b[0m\u001b[1;33m(\u001b[0m\u001b[0mframe\u001b[0m\u001b[1;33m,\u001b[0m \u001b[0marg\u001b[0m\u001b[1;33m)\u001b[0m\u001b[1;33m\u001b[0m\u001b[1;33m\u001b[0m\u001b[0m\n\u001b[0m\u001b[0;32m     93\u001b[0m         \u001b[1;32mif\u001b[0m \u001b[0mevent\u001b[0m \u001b[1;33m==\u001b[0m \u001b[1;34m'exception'\u001b[0m\u001b[1;33m:\u001b[0m\u001b[1;33m\u001b[0m\u001b[1;33m\u001b[0m\u001b[0m\n\u001b[0;32m     94\u001b[0m             \u001b[1;32mreturn\u001b[0m \u001b[0mself\u001b[0m\u001b[1;33m.\u001b[0m\u001b[0mdispatch_exception\u001b[0m\u001b[1;33m(\u001b[0m\u001b[0mframe\u001b[0m\u001b[1;33m,\u001b[0m \u001b[0marg\u001b[0m\u001b[1;33m)\u001b[0m\u001b[1;33m\u001b[0m\u001b[1;33m\u001b[0m\u001b[0m\n",
      "\u001b[1;32m~\\AppData\\Local\\Continuum\\anaconda3\\lib\\bdb.py\u001b[0m in \u001b[0;36mdispatch_return\u001b[1;34m(self, frame, arg)\u001b[0m\n\u001b[0;32m    152\u001b[0m             \u001b[1;32mfinally\u001b[0m\u001b[1;33m:\u001b[0m\u001b[1;33m\u001b[0m\u001b[1;33m\u001b[0m\u001b[0m\n\u001b[0;32m    153\u001b[0m                 \u001b[0mself\u001b[0m\u001b[1;33m.\u001b[0m\u001b[0mframe_returning\u001b[0m \u001b[1;33m=\u001b[0m \u001b[1;32mNone\u001b[0m\u001b[1;33m\u001b[0m\u001b[1;33m\u001b[0m\u001b[0m\n\u001b[1;32m--> 154\u001b[1;33m             \u001b[1;32mif\u001b[0m \u001b[0mself\u001b[0m\u001b[1;33m.\u001b[0m\u001b[0mquitting\u001b[0m\u001b[1;33m:\u001b[0m \u001b[1;32mraise\u001b[0m \u001b[0mBdbQuit\u001b[0m\u001b[1;33m\u001b[0m\u001b[1;33m\u001b[0m\u001b[0m\n\u001b[0m\u001b[0;32m    155\u001b[0m             \u001b[1;31m# The user issued a 'next' or 'until' command.\u001b[0m\u001b[1;33m\u001b[0m\u001b[1;33m\u001b[0m\u001b[1;33m\u001b[0m\u001b[0m\n\u001b[0;32m    156\u001b[0m             \u001b[1;32mif\u001b[0m \u001b[0mself\u001b[0m\u001b[1;33m.\u001b[0m\u001b[0mstopframe\u001b[0m \u001b[1;32mis\u001b[0m \u001b[0mframe\u001b[0m \u001b[1;32mand\u001b[0m \u001b[0mself\u001b[0m\u001b[1;33m.\u001b[0m\u001b[0mstoplineno\u001b[0m \u001b[1;33m!=\u001b[0m \u001b[1;33m-\u001b[0m\u001b[1;36m1\u001b[0m\u001b[1;33m:\u001b[0m\u001b[1;33m\u001b[0m\u001b[1;33m\u001b[0m\u001b[0m\n",
      "\u001b[1;31mBdbQuit\u001b[0m: "
     ]
    }
   ],
   "source": [
    "cols = ['Date','Time','MBM10_CP026','MBM10_CM027','MBM10_CT028','MBP10_CF002','MBP10_CF003','MBP10_CF004','ProcessAir','equivalentRatio','AFR','Tflame','Uref','Measpoint','PFR','CFR','Mtotalfuel','dPAverage','NOx15ppm','O2PercVol','H2Mol','N2Mol','NGMol','H2Weight','N2Weight','NGWeight','EtylenFlow']\n",
    "out = []\n",
    "for csv in csvs[:2]:\n",
    "    import pdb\n",
    "    \n",
    "    filename = '../Data/Collections/Data_2013-02-35/dumps/'+csv\n",
    "\n",
    "    \n",
    "    d1 = pd.read_csv(filename,encoding = \"ISO-8859-1\")\n",
    "    d = d1.iloc[:,:27].copy()\n",
    "    d.columns = cols\n",
    "    print('Working on file {f} ----------------------- {sh}'.format(f=csv,sh=d.shape))\n",
    "    out.append(d)\n",
    "    \n",
    "outd = pd.concat([out])\n",
    "\n",
    "out.to_csv('../Data/Collections/Data_2013-02-35/Dump/dataDump.csv')"
   ]
  },
  {
   "cell_type": "code",
   "execution_count": null,
   "metadata": {},
   "outputs": [],
   "source": [
    "d1 = pd.read('../Data/Collections/Data_2013-02-20/Dump/dumpData.CSV')\n",
    "d1.columns = cols\n",
    "d1.shape"
   ]
  },
  {
   "cell_type": "code",
   "execution_count": null,
   "metadata": {},
   "outputs": [],
   "source": [
    "d1 = pd.read('../Data/Collections/Data_2013-02-20/Dump/dumpData.CSV')\n",
    "d1.columns = cols\n",
    "d1.shape"
   ]
  },
  {
   "cell_type": "code",
   "execution_count": null,
   "metadata": {},
   "outputs": [],
   "source": [
    "d2 = pd.read('../Data/Collections/Data_2013-02-22/Dump/dumpData.CSV')\n",
    "d2.columns = cols\n",
    "d1.shape"
   ]
  }
 ],
 "metadata": {
  "kernelspec": {
   "display_name": "Python 3",
   "language": "python",
   "name": "python3"
  },
  "language_info": {
   "codemirror_mode": {
    "name": "ipython",
    "version": 3
   },
   "file_extension": ".py",
   "mimetype": "text/x-python",
   "name": "python",
   "nbconvert_exporter": "python",
   "pygments_lexer": "ipython3",
   "version": "3.7.4"
  }
 },
 "nbformat": 4,
 "nbformat_minor": 2
}
